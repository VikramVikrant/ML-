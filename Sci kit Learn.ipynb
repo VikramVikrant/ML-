{
 "cells": [
  {
   "cell_type": "code",
   "execution_count": 1,
   "metadata": {},
   "outputs": [],
   "source": [
    "# We are using a submodule of scikit learn called tree.\n",
    "#Decision Tree(Machine Learning Model)\n",
    "from sklearn import tree\n"
   ]
  },
  {
   "cell_type": "code",
   "execution_count": 5,
   "metadata": {},
   "outputs": [
    {
     "name": "stdout",
     "output_type": "stream",
     "text": [
      "['male' 'female' 'male']\n"
     ]
    }
   ],
   "source": [
    "# height , weight, shoesize of 11 persons\n",
    "X=[[180,70,8],[160,45,5],[120,60,5],[190,90,10],[200,85,11],[100,60,5],[250,150,12],[120,55,6],[140,60,7],[150,70,9],[90,55,3]]\n",
    "\n",
     "# Gender of 11 persons of planet earth\n"
    "Y=['male','female','female','male','male','female','male','female','male','male','female']  "  ,
    "clf=tree.DecisionTreeClassifier()   #clf variable stands for classifier\n",
    "clf=clf.fit(X,Y)\n",
    "\n",
    "prediction=clf.predict([[190,90,10],[160,45,5],[250,150,12]])  #we can pass here as many persons name as we want to...\n",
    "\n",
    "print(prediction)\n"
   ]
  },
  {
   "cell_type": "code",
   "execution_count": 10,
   "metadata": {},
   "outputs": [
    {
     "name": "stdout",
     "output_type": "stream",
     "text": [
      "['male']\n"
     ]
    }
   ],
   "source": [
    "# Using nearest centroid classifier in scikit learn\n",
    "\n",
    "from sklearn.neighbors.nearest_centroid import NearestCentroid\n",
    "\n",
    "clf= NearestCentroid()\n",
    "\n",
    "# height , weight, shoesize of 11 persons\n",
    "X=[[180,70,8],[160,45,5],[120,60,5],[190,90,10],[200,85,11],[100,60,5],[250,150,12],[120,55,6],[140,60,7],\\\n",
    "   [150,70,9],[90,55,3]]\n",
    "\n",
    "# Gender of 11 persons of planet earth\n",
    "Y=['male','female','female','male','male','female','male','female','male','male','female']   \n",
    "\n",
    "\n",
    "\n",
    "clf=clf.fit(X,Y)\n",
    "\n",
    "prediction=clf.predict([[200,85,11]])\n",
    "\n",
    "print(prediction)"
   ]
  },
  {
   "cell_type": "code",
   "execution_count": 12,
   "metadata": {},
   "outputs": [
    {
     "name": "stdout",
     "output_type": "stream",
     "text": [
      "['female']\n"
     ]
    }
   ],
   "source": [
    "# Using Random Forest Classifier in scikit learn implementing on the same data\n",
    "\n",
    "from sklearn.ensemble import RandomForestClassifier\n",
    "\n",
    "clf = RandomForestClassifier(n_estimators=2)\n",
    "\n",
    "# height , weight, shoesize of 11 persons\n",
    "X=[[180,70,8],[160,45,5],[120,60,5],[190,90,10],[200,85,11],[100,60,5],[250,150,12],[120,55,6],[140,60,7],\\\n",
    "   [150,70,9],[90,55,3]]\n",
    "\n",
    "# Gender of 11 persons of planet earth\n",
    "Y=['male','female','female','male','male','female','male','female','male','male','female'] \n",
    "\n",
    "clf = clf.fit(X,Y)\n",
    "\n",
    "prediction = clf.predict([[90,55,3]])\n",
    "\n",
    "print(prediction)"
   ]
  },
  {
   "cell_type": "code",
   "execution_count": 18,
   "metadata": {},
   "outputs": [
    {
     "name": "stdout",
     "output_type": "stream",
     "text": [
      "['female']\n"
     ]
    }
   ],
   "source": [
    "# Using Support Vector Machines (SVM) in scikit learn\n",
    "from sklearn import svm\n",
    "\n",
    "clf= svm.SVC(gamma='scale')\n",
    "\n",
    "# height , weight, shoesize of 11 persons\n",
    "X=[[180,70,8],[160,45,5],[120,60,5],[190,90,10],[200,85,11],[100,60,5],[250,150,12],[120,55,6],[140,60,7],\\\n",
    "   [150,70,9],[90,55,3]]\n",
    "\n",
    "# Gender of 11 persons of planet earth\n",
    "Y=['male','female','female','male','male','female','male','female','male','male','female'] \n",
    "\n",
    "clf= clf.fit(X,Y)\n",
    "\n",
    "prediction= clf.predict([[140,60,7]])\n",
    "\n",
    "print(prediction)"
   ]
  },
  {
   "cell_type": "code",
   "execution_count": 27,
   "metadata": {},
   "outputs": [
    {
     "name": "stdout",
     "output_type": "stream",
     "text": [
      "['male']\n"
     ]
    }
   ],
   "source": [
    "# Using naive_bayes classifier in scikit learn\n",
    "from sklearn.naive_bayes import GaussianNB\n",
    "\n",
    "clf = GaussianNB()\n",
    "\n",
    "# height , weight, shoesize of 11 persons\n",
    "X=[[180,70,8],[160,45,5],[120,60,5],[190,90,10],[200,85,11],[100,60,5],[250,150,12],[120,55,6],[140,60,7],\\\n",
    "   [150,70,9],[90,55,3]]\n",
    "\n",
    "# Gender of 11 persons of planet earth\n",
    "Y=['male','female','female','male','male','female','male','female','male','male','female'] \n",
    "\n",
    "clf = clf.fit(X,Y)\n",
    "\n",
    "prediction= clf.predict([[150,70,9]])\n",
    "\n",
    "print(prediction)"
   ]
  },
  {
   "cell_type": "code",
   "execution_count": 28,
   "metadata": {},
   "outputs": [
    {
     "name": "stderr",
     "output_type": "stream",
     "text": [
      "D:\\Anaconda\\lib\\site-packages\\sklearn\\linear_model\\logistic.py:433: FutureWarning: Default solver will be changed to 'lbfgs' in 0.22. Specify a solver to silence this warning.\n",
      "  FutureWarning)\n"
     ]
    },
    {
     "name": "stdout",
     "output_type": "stream",
     "text": [
      "['male']\n"
     ]
    }
   ],
   "source": [
    "# Using LogisticRegression in scikit learn\n",
    "from sklearn.linear_model import LogisticRegression\n",
    "\n",
    "clf= LogisticRegression()\n",
    "\n",
    "# height , weight, shoesize of 11 persons\n",
    "X=[[180,70,8],[160,45,5],[120,60,5],[190,90,10],[200,85,11],[100,60,5],[250,150,12],[120,55,6],[140,60,7],\\\n",
    "   [150,70,9],[90,55,3]]\n",
    "\n",
    "# Gender of 11 persons of planet earth\n",
    "Y=['male','female','female','male','male','female','male','female','male','male','female'] \n",
    "\n",
    "clf= clf.fit(X,Y)\n",
    "\n",
    "prediction = clf.predict([[120,55,6]])\n",
    "\n",
    "print(prediction)"
   ]
  },
  {
   "cell_type": "code",
   "execution_count": 29,
   "metadata": {},
   "outputs": [
    {
     "name": "stdout",
     "output_type": "stream",
     "text": [
      "['male']\n"
     ]
    }
   ],
   "source": [
    "# Using KNeighborsClassifier in scikit learn\n",
    "from sklearn.neighbors import KNeighborsClassifier\n",
    "\n",
    "\n",
    "clf = KNeighborsClassifier(n_neighbors=3)\n",
    "\n",
    "#[height, weight, shoe_size]\n",
    "X = [[181, 80, 44], [177, 70, 43], [160, 60, 38], [154, 54, 37], [166, 65, 40], [190, 90, 47], [175, 64, 39],\n",
    "     [177, 70, 40], [159, 55, 37], [171, 75, 42], [181, 85, 43]]\n",
    "\n",
    "Y = ['male', 'male', 'female', 'female', 'male', 'male', 'female', 'female', 'female', 'male', 'male']\n",
    "\n",
    "clf.fit(X, Y)\n",
    "\n",
    "prediction = clf.predict([[190, 70, 43]])\n",
    "\n",
    "print (prediction)"
   ]
  }
 ],
 "metadata": {
  "kernelspec": {
   "display_name": "Python 3",
   "language": "python",
   "name": "python3"
  },
  "language_info": {
   "codemirror_mode": {
    "name": "ipython",
    "version": 3
   },
   "file_extension": ".py",
   "mimetype": "text/x-python",
   "name": "python",
   "nbconvert_exporter": "python",
   "pygments_lexer": "ipython3",
   "version": "3.7.3"
  }
 },
 "nbformat": 4,
 "nbformat_minor": 2
}
